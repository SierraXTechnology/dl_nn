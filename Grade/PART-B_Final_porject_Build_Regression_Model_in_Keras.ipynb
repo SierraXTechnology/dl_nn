{
  "cells": [
    {
      "cell_type": "markdown",
      "metadata": {
        "button": false,
        "new_sheet": false,
        "run_control": {
          "read_only": false
        },
        "id": "PG3ay27QRjpq"
      },
      "source": [
        "<a href=\"https://cognitiveclass.ai\"><img src = \"https://s3-api.us-geo.objectstorage.softlayer.net/cf-courses-data/CognitiveClass/Logos/organization_logo/organization_logo.png\" width = 400> </a>\n",
        "\n",
        "<h1 align=center><font size = 5>Peer-graded Assignment: Build a Regression Model in Keras</font></h1>"
      ]
    },
    {
      "cell_type": "markdown",
      "metadata": {
        "button": false,
        "new_sheet": false,
        "run_control": {
          "read_only": false
        },
        "id": "ybM9OOZpRjpv"
      },
      "source": [
        "# Download and Clean Dataset"
      ]
    },
    {
      "cell_type": "markdown",
      "metadata": {
        "button": false,
        "new_sheet": false,
        "run_control": {
          "read_only": false
        },
        "id": "O9FXT1HKRjpw"
      },
      "source": [
        "Let's start by importing the <em>pandas</em> and the Numpy libraries."
      ]
    },
    {
      "cell_type": "code",
      "execution_count": null,
      "metadata": {
        "ExecuteTime": {
          "end_time": "2020-04-24T15:48:31.023480Z",
          "start_time": "2020-04-24T15:48:30.753157Z"
        },
        "button": false,
        "new_sheet": false,
        "run_control": {
          "read_only": false
        },
        "id": "3V5wI31GRjpx"
      },
      "outputs": [],
      "source": [
        "import pandas as pd\n",
        "import numpy  as np"
      ]
    },
    {
      "cell_type": "markdown",
      "metadata": {
        "button": false,
        "new_sheet": false,
        "run_control": {
          "read_only": false
        },
        "id": "W9AriNFKRjpz"
      },
      "source": [
        "We will be playing around with the same dataset that we used in the videos.\n",
        "\n",
        "<strong>The dataset is about the compressive strength of different samples of concrete based on the volumes of the different ingredients that were used to make them. Ingredients include:</strong>\n",
        "\n",
        "<strong>1. Cement</strong>\n",
        "\n",
        "<strong>2. Blast Furnace Slag</strong>\n",
        "\n",
        "<strong>3. Fly Ash</strong>\n",
        "\n",
        "<strong>4. Water</strong>\n",
        "\n",
        "<strong>5. Superplasticizer</strong>\n",
        "\n",
        "<strong>6. Coarse Aggregate</strong>\n",
        "\n",
        "<strong>7. Fine Aggregate</strong>"
      ]
    },
    {
      "cell_type": "markdown",
      "metadata": {
        "button": false,
        "new_sheet": false,
        "run_control": {
          "read_only": false
        },
        "id": "3XsuUh5xRjp0"
      },
      "source": [
        "Let's download the data and read it into a <em>pandas</em> dataframe."
      ]
    },
    {
      "cell_type": "code",
      "execution_count": null,
      "metadata": {
        "ExecuteTime": {
          "end_time": "2020-04-24T15:49:03.755372Z",
          "start_time": "2020-04-24T15:48:45.178568Z"
        },
        "button": false,
        "new_sheet": false,
        "run_control": {
          "read_only": false
        },
        "id": "_YIb7YcyRjp1",
        "outputId": "0c3e048f-c7cc-479f-8b54-b4538df51517"
      },
      "outputs": [
        {
          "data": {
            "text/html": [
              "<div>\n",
              "<style scoped>\n",
              "    .dataframe tbody tr th:only-of-type {\n",
              "        vertical-align: middle;\n",
              "    }\n",
              "\n",
              "    .dataframe tbody tr th {\n",
              "        vertical-align: top;\n",
              "    }\n",
              "\n",
              "    .dataframe thead th {\n",
              "        text-align: right;\n",
              "    }\n",
              "</style>\n",
              "<table border=\"1\" class=\"dataframe\">\n",
              "  <thead>\n",
              "    <tr style=\"text-align: right;\">\n",
              "      <th></th>\n",
              "      <th>Cement</th>\n",
              "      <th>Blast Furnace Slag</th>\n",
              "      <th>Fly Ash</th>\n",
              "      <th>Water</th>\n",
              "      <th>Superplasticizer</th>\n",
              "      <th>Coarse Aggregate</th>\n",
              "      <th>Fine Aggregate</th>\n",
              "      <th>Age</th>\n",
              "      <th>Strength</th>\n",
              "    </tr>\n",
              "  </thead>\n",
              "  <tbody>\n",
              "    <tr>\n",
              "      <th>0</th>\n",
              "      <td>540.0</td>\n",
              "      <td>0.0</td>\n",
              "      <td>0.0</td>\n",
              "      <td>162.0</td>\n",
              "      <td>2.5</td>\n",
              "      <td>1040.0</td>\n",
              "      <td>676.0</td>\n",
              "      <td>28</td>\n",
              "      <td>79.99</td>\n",
              "    </tr>\n",
              "    <tr>\n",
              "      <th>1</th>\n",
              "      <td>540.0</td>\n",
              "      <td>0.0</td>\n",
              "      <td>0.0</td>\n",
              "      <td>162.0</td>\n",
              "      <td>2.5</td>\n",
              "      <td>1055.0</td>\n",
              "      <td>676.0</td>\n",
              "      <td>28</td>\n",
              "      <td>61.89</td>\n",
              "    </tr>\n",
              "    <tr>\n",
              "      <th>2</th>\n",
              "      <td>332.5</td>\n",
              "      <td>142.5</td>\n",
              "      <td>0.0</td>\n",
              "      <td>228.0</td>\n",
              "      <td>0.0</td>\n",
              "      <td>932.0</td>\n",
              "      <td>594.0</td>\n",
              "      <td>270</td>\n",
              "      <td>40.27</td>\n",
              "    </tr>\n",
              "    <tr>\n",
              "      <th>3</th>\n",
              "      <td>332.5</td>\n",
              "      <td>142.5</td>\n",
              "      <td>0.0</td>\n",
              "      <td>228.0</td>\n",
              "      <td>0.0</td>\n",
              "      <td>932.0</td>\n",
              "      <td>594.0</td>\n",
              "      <td>365</td>\n",
              "      <td>41.05</td>\n",
              "    </tr>\n",
              "    <tr>\n",
              "      <th>4</th>\n",
              "      <td>198.6</td>\n",
              "      <td>132.4</td>\n",
              "      <td>0.0</td>\n",
              "      <td>192.0</td>\n",
              "      <td>0.0</td>\n",
              "      <td>978.4</td>\n",
              "      <td>825.5</td>\n",
              "      <td>360</td>\n",
              "      <td>44.30</td>\n",
              "    </tr>\n",
              "  </tbody>\n",
              "</table>\n",
              "</div>"
            ],
            "text/plain": [
              "   Cement  Blast Furnace Slag  Fly Ash  Water  Superplasticizer  \\\n",
              "0   540.0                 0.0      0.0  162.0               2.5   \n",
              "1   540.0                 0.0      0.0  162.0               2.5   \n",
              "2   332.5               142.5      0.0  228.0               0.0   \n",
              "3   332.5               142.5      0.0  228.0               0.0   \n",
              "4   198.6               132.4      0.0  192.0               0.0   \n",
              "\n",
              "   Coarse Aggregate  Fine Aggregate  Age  Strength  \n",
              "0            1040.0           676.0   28     79.99  \n",
              "1            1055.0           676.0   28     61.89  \n",
              "2             932.0           594.0  270     40.27  \n",
              "3             932.0           594.0  365     41.05  \n",
              "4             978.4           825.5  360     44.30  "
            ]
          },
          "execution_count": 2,
          "metadata": {},
          "output_type": "execute_result"
        }
      ],
      "source": [
        "concrete_data = pd.read_csv('https://s3-api.us-geo.objectstorage.softlayer.net/cf-courses-data/CognitiveClass/DL0101EN/labs/data/concrete_data.csv')\n",
        "concrete_data.head()"
      ]
    },
    {
      "cell_type": "markdown",
      "metadata": {
        "button": false,
        "new_sheet": false,
        "run_control": {
          "read_only": false
        },
        "id": "3F3Ug0GvRjp2"
      },
      "source": [
        "So the first concrete sample has 540 cubic meter of cement, 0 cubic meter of blast furnace slag, 0 cubic meter of fly ash, 162 cubic meter of water, 2.5 cubic meter of superplaticizer, 1040 cubic meter of coarse aggregate, 676 cubic meter of fine aggregate. Such a concrete mix which is 28 days old, has a compressive strength of 79.99 MPa."
      ]
    },
    {
      "cell_type": "markdown",
      "metadata": {
        "button": false,
        "new_sheet": false,
        "run_control": {
          "read_only": false
        },
        "id": "8zo31lzZRjp2"
      },
      "source": [
        "#### Let's check how many data points we have."
      ]
    },
    {
      "cell_type": "code",
      "execution_count": null,
      "metadata": {
        "ExecuteTime": {
          "end_time": "2020-04-24T15:49:03.761361Z",
          "start_time": "2020-04-24T15:49:03.757533Z"
        },
        "button": false,
        "new_sheet": false,
        "run_control": {
          "read_only": false
        },
        "id": "UDoMrzLlRjp3",
        "outputId": "a9c7b572-b7a2-4b87-ca6c-291e2afae802"
      },
      "outputs": [
        {
          "data": {
            "text/plain": [
              "(1030, 9)"
            ]
          },
          "execution_count": 3,
          "metadata": {},
          "output_type": "execute_result"
        }
      ],
      "source": [
        "concrete_data.shape"
      ]
    },
    {
      "cell_type": "markdown",
      "metadata": {
        "button": false,
        "new_sheet": false,
        "run_control": {
          "read_only": false
        },
        "id": "kYWrMmGHRjp3"
      },
      "source": [
        "So, there are approximately 1000 samples to train our model on. Because of the few samples, we have to be careful not to overfit the training data."
      ]
    },
    {
      "cell_type": "markdown",
      "metadata": {
        "button": false,
        "new_sheet": false,
        "run_control": {
          "read_only": false
        },
        "id": "BelNatOLRjp3"
      },
      "source": [
        "Let's check the dataset for any missing values."
      ]
    },
    {
      "cell_type": "code",
      "execution_count": null,
      "metadata": {
        "ExecuteTime": {
          "end_time": "2020-04-24T15:49:08.942300Z",
          "start_time": "2020-04-24T15:49:08.909313Z"
        },
        "button": false,
        "new_sheet": false,
        "run_control": {
          "read_only": false
        },
        "id": "4xH23IyMRjp4",
        "outputId": "c793904f-819c-4e0b-d29c-3d20d35923b0"
      },
      "outputs": [
        {
          "data": {
            "text/html": [
              "<div>\n",
              "<style scoped>\n",
              "    .dataframe tbody tr th:only-of-type {\n",
              "        vertical-align: middle;\n",
              "    }\n",
              "\n",
              "    .dataframe tbody tr th {\n",
              "        vertical-align: top;\n",
              "    }\n",
              "\n",
              "    .dataframe thead th {\n",
              "        text-align: right;\n",
              "    }\n",
              "</style>\n",
              "<table border=\"1\" class=\"dataframe\">\n",
              "  <thead>\n",
              "    <tr style=\"text-align: right;\">\n",
              "      <th></th>\n",
              "      <th>Cement</th>\n",
              "      <th>Blast Furnace Slag</th>\n",
              "      <th>Fly Ash</th>\n",
              "      <th>Water</th>\n",
              "      <th>Superplasticizer</th>\n",
              "      <th>Coarse Aggregate</th>\n",
              "      <th>Fine Aggregate</th>\n",
              "      <th>Age</th>\n",
              "      <th>Strength</th>\n",
              "    </tr>\n",
              "  </thead>\n",
              "  <tbody>\n",
              "    <tr>\n",
              "      <th>count</th>\n",
              "      <td>1030.000000</td>\n",
              "      <td>1030.000000</td>\n",
              "      <td>1030.000000</td>\n",
              "      <td>1030.000000</td>\n",
              "      <td>1030.000000</td>\n",
              "      <td>1030.000000</td>\n",
              "      <td>1030.000000</td>\n",
              "      <td>1030.000000</td>\n",
              "      <td>1030.000000</td>\n",
              "    </tr>\n",
              "    <tr>\n",
              "      <th>mean</th>\n",
              "      <td>281.167864</td>\n",
              "      <td>73.895825</td>\n",
              "      <td>54.188350</td>\n",
              "      <td>181.567282</td>\n",
              "      <td>6.204660</td>\n",
              "      <td>972.918932</td>\n",
              "      <td>773.580485</td>\n",
              "      <td>45.662136</td>\n",
              "      <td>35.817961</td>\n",
              "    </tr>\n",
              "    <tr>\n",
              "      <th>std</th>\n",
              "      <td>104.506364</td>\n",
              "      <td>86.279342</td>\n",
              "      <td>63.997004</td>\n",
              "      <td>21.354219</td>\n",
              "      <td>5.973841</td>\n",
              "      <td>77.753954</td>\n",
              "      <td>80.175980</td>\n",
              "      <td>63.169912</td>\n",
              "      <td>16.705742</td>\n",
              "    </tr>\n",
              "    <tr>\n",
              "      <th>min</th>\n",
              "      <td>102.000000</td>\n",
              "      <td>0.000000</td>\n",
              "      <td>0.000000</td>\n",
              "      <td>121.800000</td>\n",
              "      <td>0.000000</td>\n",
              "      <td>801.000000</td>\n",
              "      <td>594.000000</td>\n",
              "      <td>1.000000</td>\n",
              "      <td>2.330000</td>\n",
              "    </tr>\n",
              "    <tr>\n",
              "      <th>25%</th>\n",
              "      <td>192.375000</td>\n",
              "      <td>0.000000</td>\n",
              "      <td>0.000000</td>\n",
              "      <td>164.900000</td>\n",
              "      <td>0.000000</td>\n",
              "      <td>932.000000</td>\n",
              "      <td>730.950000</td>\n",
              "      <td>7.000000</td>\n",
              "      <td>23.710000</td>\n",
              "    </tr>\n",
              "    <tr>\n",
              "      <th>50%</th>\n",
              "      <td>272.900000</td>\n",
              "      <td>22.000000</td>\n",
              "      <td>0.000000</td>\n",
              "      <td>185.000000</td>\n",
              "      <td>6.400000</td>\n",
              "      <td>968.000000</td>\n",
              "      <td>779.500000</td>\n",
              "      <td>28.000000</td>\n",
              "      <td>34.445000</td>\n",
              "    </tr>\n",
              "    <tr>\n",
              "      <th>75%</th>\n",
              "      <td>350.000000</td>\n",
              "      <td>142.950000</td>\n",
              "      <td>118.300000</td>\n",
              "      <td>192.000000</td>\n",
              "      <td>10.200000</td>\n",
              "      <td>1029.400000</td>\n",
              "      <td>824.000000</td>\n",
              "      <td>56.000000</td>\n",
              "      <td>46.135000</td>\n",
              "    </tr>\n",
              "    <tr>\n",
              "      <th>max</th>\n",
              "      <td>540.000000</td>\n",
              "      <td>359.400000</td>\n",
              "      <td>200.100000</td>\n",
              "      <td>247.000000</td>\n",
              "      <td>32.200000</td>\n",
              "      <td>1145.000000</td>\n",
              "      <td>992.600000</td>\n",
              "      <td>365.000000</td>\n",
              "      <td>82.600000</td>\n",
              "    </tr>\n",
              "  </tbody>\n",
              "</table>\n",
              "</div>"
            ],
            "text/plain": [
              "            Cement  Blast Furnace Slag      Fly Ash        Water  \\\n",
              "count  1030.000000         1030.000000  1030.000000  1030.000000   \n",
              "mean    281.167864           73.895825    54.188350   181.567282   \n",
              "std     104.506364           86.279342    63.997004    21.354219   \n",
              "min     102.000000            0.000000     0.000000   121.800000   \n",
              "25%     192.375000            0.000000     0.000000   164.900000   \n",
              "50%     272.900000           22.000000     0.000000   185.000000   \n",
              "75%     350.000000          142.950000   118.300000   192.000000   \n",
              "max     540.000000          359.400000   200.100000   247.000000   \n",
              "\n",
              "       Superplasticizer  Coarse Aggregate  Fine Aggregate          Age  \\\n",
              "count       1030.000000       1030.000000     1030.000000  1030.000000   \n",
              "mean           6.204660        972.918932      773.580485    45.662136   \n",
              "std            5.973841         77.753954       80.175980    63.169912   \n",
              "min            0.000000        801.000000      594.000000     1.000000   \n",
              "25%            0.000000        932.000000      730.950000     7.000000   \n",
              "50%            6.400000        968.000000      779.500000    28.000000   \n",
              "75%           10.200000       1029.400000      824.000000    56.000000   \n",
              "max           32.200000       1145.000000      992.600000   365.000000   \n",
              "\n",
              "          Strength  \n",
              "count  1030.000000  \n",
              "mean     35.817961  \n",
              "std      16.705742  \n",
              "min       2.330000  \n",
              "25%      23.710000  \n",
              "50%      34.445000  \n",
              "75%      46.135000  \n",
              "max      82.600000  "
            ]
          },
          "execution_count": 4,
          "metadata": {},
          "output_type": "execute_result"
        }
      ],
      "source": [
        "concrete_data.describe()"
      ]
    },
    {
      "cell_type": "code",
      "execution_count": null,
      "metadata": {
        "ExecuteTime": {
          "end_time": "2020-04-24T15:49:10.245726Z",
          "start_time": "2020-04-24T15:49:10.239812Z"
        },
        "button": false,
        "new_sheet": false,
        "run_control": {
          "read_only": false
        },
        "id": "GYnm_-ysRjp4",
        "outputId": "df983f96-1e3e-4c20-e4dd-762e47fa78a0"
      },
      "outputs": [
        {
          "data": {
            "text/plain": [
              "Cement                0\n",
              "Blast Furnace Slag    0\n",
              "Fly Ash               0\n",
              "Water                 0\n",
              "Superplasticizer      0\n",
              "Coarse Aggregate      0\n",
              "Fine Aggregate        0\n",
              "Age                   0\n",
              "Strength              0\n",
              "dtype: int64"
            ]
          },
          "execution_count": 5,
          "metadata": {},
          "output_type": "execute_result"
        }
      ],
      "source": [
        "concrete_data.isnull().sum()"
      ]
    },
    {
      "cell_type": "markdown",
      "metadata": {
        "id": "Mhf3LVtqRjp4"
      },
      "source": [
        "The data looks very clean and is ready to be used to build our model."
      ]
    },
    {
      "cell_type": "markdown",
      "metadata": {
        "id": "4F6Hiu_xRjp5"
      },
      "source": [
        "Lets separate our data into predictors (X) and target (y)"
      ]
    },
    {
      "cell_type": "code",
      "execution_count": null,
      "metadata": {
        "ExecuteTime": {
          "end_time": "2020-04-24T15:49:16.695743Z",
          "start_time": "2020-04-24T15:49:16.692060Z"
        },
        "id": "VFnFzUfcRjp5"
      },
      "outputs": [],
      "source": [
        "target = \"Strength\"\n",
        "X = concrete_data.copy()\n",
        "y = X.pop(target)"
      ]
    },
    {
      "cell_type": "code",
      "execution_count": null,
      "metadata": {
        "ExecuteTime": {
          "end_time": "2020-04-24T15:49:19.080501Z",
          "start_time": "2020-04-24T15:49:19.065545Z"
        },
        "id": "qYsl6ldLRjp5",
        "outputId": "b3f3f723-ba83-42d7-a4fb-0ad01fdecde0"
      },
      "outputs": [
        {
          "data": {
            "text/html": [
              "<div>\n",
              "<style scoped>\n",
              "    .dataframe tbody tr th:only-of-type {\n",
              "        vertical-align: middle;\n",
              "    }\n",
              "\n",
              "    .dataframe tbody tr th {\n",
              "        vertical-align: top;\n",
              "    }\n",
              "\n",
              "    .dataframe thead th {\n",
              "        text-align: right;\n",
              "    }\n",
              "</style>\n",
              "<table border=\"1\" class=\"dataframe\">\n",
              "  <thead>\n",
              "    <tr style=\"text-align: right;\">\n",
              "      <th></th>\n",
              "      <th>Cement</th>\n",
              "      <th>Blast Furnace Slag</th>\n",
              "      <th>Fly Ash</th>\n",
              "      <th>Water</th>\n",
              "      <th>Superplasticizer</th>\n",
              "      <th>Coarse Aggregate</th>\n",
              "      <th>Fine Aggregate</th>\n",
              "      <th>Age</th>\n",
              "    </tr>\n",
              "  </thead>\n",
              "  <tbody>\n",
              "    <tr>\n",
              "      <th>0</th>\n",
              "      <td>540.0</td>\n",
              "      <td>0.0</td>\n",
              "      <td>0.0</td>\n",
              "      <td>162.0</td>\n",
              "      <td>2.5</td>\n",
              "      <td>1040.0</td>\n",
              "      <td>676.0</td>\n",
              "      <td>28</td>\n",
              "    </tr>\n",
              "    <tr>\n",
              "      <th>1</th>\n",
              "      <td>540.0</td>\n",
              "      <td>0.0</td>\n",
              "      <td>0.0</td>\n",
              "      <td>162.0</td>\n",
              "      <td>2.5</td>\n",
              "      <td>1055.0</td>\n",
              "      <td>676.0</td>\n",
              "      <td>28</td>\n",
              "    </tr>\n",
              "    <tr>\n",
              "      <th>2</th>\n",
              "      <td>332.5</td>\n",
              "      <td>142.5</td>\n",
              "      <td>0.0</td>\n",
              "      <td>228.0</td>\n",
              "      <td>0.0</td>\n",
              "      <td>932.0</td>\n",
              "      <td>594.0</td>\n",
              "      <td>270</td>\n",
              "    </tr>\n",
              "    <tr>\n",
              "      <th>3</th>\n",
              "      <td>332.5</td>\n",
              "      <td>142.5</td>\n",
              "      <td>0.0</td>\n",
              "      <td>228.0</td>\n",
              "      <td>0.0</td>\n",
              "      <td>932.0</td>\n",
              "      <td>594.0</td>\n",
              "      <td>365</td>\n",
              "    </tr>\n",
              "    <tr>\n",
              "      <th>4</th>\n",
              "      <td>198.6</td>\n",
              "      <td>132.4</td>\n",
              "      <td>0.0</td>\n",
              "      <td>192.0</td>\n",
              "      <td>0.0</td>\n",
              "      <td>978.4</td>\n",
              "      <td>825.5</td>\n",
              "      <td>360</td>\n",
              "    </tr>\n",
              "  </tbody>\n",
              "</table>\n",
              "</div>"
            ],
            "text/plain": [
              "   Cement  Blast Furnace Slag  Fly Ash  Water  Superplasticizer  \\\n",
              "0   540.0                 0.0      0.0  162.0               2.5   \n",
              "1   540.0                 0.0      0.0  162.0               2.5   \n",
              "2   332.5               142.5      0.0  228.0               0.0   \n",
              "3   332.5               142.5      0.0  228.0               0.0   \n",
              "4   198.6               132.4      0.0  192.0               0.0   \n",
              "\n",
              "   Coarse Aggregate  Fine Aggregate  Age  \n",
              "0            1040.0           676.0   28  \n",
              "1            1055.0           676.0   28  \n",
              "2             932.0           594.0  270  \n",
              "3             932.0           594.0  365  \n",
              "4             978.4           825.5  360  "
            ]
          },
          "execution_count": 7,
          "metadata": {},
          "output_type": "execute_result"
        }
      ],
      "source": [
        "X.head()"
      ]
    },
    {
      "cell_type": "code",
      "execution_count": null,
      "metadata": {
        "ExecuteTime": {
          "end_time": "2020-04-24T15:49:19.993484Z",
          "start_time": "2020-04-24T15:49:19.977084Z"
        },
        "id": "kRlcvsRfRjp5",
        "outputId": "7d6c3672-883e-4154-e434-911102d6a6a1"
      },
      "outputs": [
        {
          "data": {
            "text/plain": [
              "0    79.99\n",
              "1    61.89\n",
              "2    40.27\n",
              "3    41.05\n",
              "4    44.30\n",
              "Name: Strength, dtype: float64"
            ]
          },
          "execution_count": 8,
          "metadata": {},
          "output_type": "execute_result"
        }
      ],
      "source": [
        "y.head()"
      ]
    },
    {
      "cell_type": "code",
      "execution_count": null,
      "metadata": {
        "ExecuteTime": {
          "end_time": "2020-04-24T15:49:20.930907Z",
          "start_time": "2020-04-24T15:49:20.928477Z"
        },
        "id": "S7XP_VZuRjp6"
      },
      "outputs": [],
      "source": [
        "# number of predictors\n",
        "n_cols      = X.shape[1]\n",
        "input_shape = (n_cols,)"
      ]
    },
    {
      "cell_type": "markdown",
      "metadata": {
        "id": "rT7CnCd4Rjp6"
      },
      "source": [
        "# Part A: Build a baseline model (5 marks)"
      ]
    },
    {
      "cell_type": "markdown",
      "metadata": {
        "id": "GaJsFis6Rjp6"
      },
      "source": [
        "Use the Keras library to build a neural network with the following:\n",
        "  * One hidden layer of 10 nodes, and a ReLU activation function\n",
        "  * Use the adam optimizer and the mean squared error as the loss function.\n",
        "\n",
        "1. Randomly split the data into a training and test sets by holding 30% of the data for testing. You can use the train_test_split helper function from Scikit-learn.\n",
        "\n",
        "2. Train the model on the training data using 50 epochs.\n",
        "\n",
        "3. Evaluate the model on the test data and compute the mean squared error between the predicted concrete strength and the actual concrete strength. You can use the mean_squared_error function from Scikit-learn.\n",
        "\n",
        "4. Repeat steps 1 - 3, 50 times, i.e., create a list of 50 mean squared errors.\n",
        "\n",
        "5. Report the mean and the standard deviation of the mean squared errors."
      ]
    },
    {
      "cell_type": "markdown",
      "metadata": {
        "button": false,
        "new_sheet": false,
        "run_control": {
          "read_only": false
        },
        "id": "kfedv5ohRjp6"
      },
      "source": [
        "## Part A.1: Split data into training and test"
      ]
    },
    {
      "cell_type": "code",
      "execution_count": null,
      "metadata": {
        "ExecuteTime": {
          "end_time": "2020-04-24T15:50:13.094874Z",
          "start_time": "2020-04-24T15:50:12.910697Z"
        },
        "id": "q60aZ_mSRjp6"
      },
      "outputs": [],
      "source": [
        "# Import the train_test_split of scikit-learn\n",
        "# Will use it later for the train/test split\n",
        "from sklearn.model_selection import train_test_split"
      ]
    },
    {
      "cell_type": "markdown",
      "metadata": {
        "id": "6C3eFddRRjp7"
      },
      "source": [
        "## Part A.2: Train a regression model"
      ]
    },
    {
      "cell_type": "markdown",
      "metadata": {
        "id": "D81I3W7-Rjp7"
      },
      "source": [
        "Import the keras package"
      ]
    },
    {
      "cell_type": "code",
      "execution_count": null,
      "metadata": {
        "ExecuteTime": {
          "end_time": "2020-04-24T15:50:16.337840Z",
          "start_time": "2020-04-24T15:50:15.784242Z"
        },
        "id": "waaWr1VERjp7",
        "outputId": "01868994-6036-48b3-ff6d-58a26bbf8a94"
      },
      "outputs": [
        {
          "name": "stderr",
          "output_type": "stream",
          "text": [
            "/usr/local/lib/python3.6/dist-packages/tensorflow/python/framework/dtypes.py:526: FutureWarning: Passing (type, 1) or '1type' as a synonym of type is deprecated; in a future version of numpy, it will be understood as (type, (1,)) / '(1,)type'.\n",
            "  _np_qint8 = np.dtype([(\"qint8\", np.int8, 1)])\n",
            "/usr/local/lib/python3.6/dist-packages/tensorflow/python/framework/dtypes.py:527: FutureWarning: Passing (type, 1) or '1type' as a synonym of type is deprecated; in a future version of numpy, it will be understood as (type, (1,)) / '(1,)type'.\n",
            "  _np_quint8 = np.dtype([(\"quint8\", np.uint8, 1)])\n",
            "/usr/local/lib/python3.6/dist-packages/tensorflow/python/framework/dtypes.py:528: FutureWarning: Passing (type, 1) or '1type' as a synonym of type is deprecated; in a future version of numpy, it will be understood as (type, (1,)) / '(1,)type'.\n",
            "  _np_qint16 = np.dtype([(\"qint16\", np.int16, 1)])\n",
            "/usr/local/lib/python3.6/dist-packages/tensorflow/python/framework/dtypes.py:529: FutureWarning: Passing (type, 1) or '1type' as a synonym of type is deprecated; in a future version of numpy, it will be understood as (type, (1,)) / '(1,)type'.\n",
            "  _np_quint16 = np.dtype([(\"quint16\", np.uint16, 1)])\n",
            "/usr/local/lib/python3.6/dist-packages/tensorflow/python/framework/dtypes.py:530: FutureWarning: Passing (type, 1) or '1type' as a synonym of type is deprecated; in a future version of numpy, it will be understood as (type, (1,)) / '(1,)type'.\n",
            "  _np_qint32 = np.dtype([(\"qint32\", np.int32, 1)])\n",
            "/usr/local/lib/python3.6/dist-packages/tensorflow/python/framework/dtypes.py:535: FutureWarning: Passing (type, 1) or '1type' as a synonym of type is deprecated; in a future version of numpy, it will be understood as (type, (1,)) / '(1,)type'.\n",
            "  np_resource = np.dtype([(\"resource\", np.ubyte, 1)])\n"
          ]
        }
      ],
      "source": [
        "from tensorflow import keras as K\n",
        "from tensorflow.keras.models import Sequential\n",
        "from tensorflow.keras.layers import Dense"
      ]
    },
    {
      "cell_type": "markdown",
      "metadata": {
        "id": "YbqebFJcRjp7"
      },
      "source": [
        "### Build a Neural Network"
      ]
    },
    {
      "cell_type": "code",
      "execution_count": null,
      "metadata": {
        "ExecuteTime": {
          "end_time": "2020-04-24T15:50:24.549136Z",
          "start_time": "2020-04-24T15:50:24.543292Z"
        },
        "id": "ExBBlMu1Rjp7"
      },
      "outputs": [],
      "source": [
        "# define regression model\n",
        "def regression_model(network_arch,\n",
        "                     input_shape,\n",
        "                     optimizer = \"adam\",\n",
        "                     loss = \"mean_squared_error\",\n",
        "                    ):\n",
        "    \"\"\"\n",
        "    Function to build the regression model\n",
        "\n",
        "    parameters:\n",
        "    -----------\n",
        "      - network_arch: dictionary with the following structure\n",
        "          {\"layer_1\": {\"u_units\": n, \"activation\": activation},\n",
        "           ...\n",
        "           \"layer_n\": {\"u_units\"}\n",
        "          }\n",
        "      - input_shape: tuple with the shape of the input\n",
        "      - optimizer:   string, name of the optimizer to use\n",
        "      - loss:        string, name of the loss function to minimize\n",
        "\n",
        "    returns:\n",
        "    --------\n",
        "      - A compiled model\n",
        "    \"\"\"\n",
        "\n",
        "    # create model\n",
        "    model = Sequential()\n",
        "\n",
        "    nlayers     = len(network_arch)\n",
        "    final_layer = \"layer_\" + str(nlayers)\n",
        "\n",
        "    for k,layer in network_arch.items():\n",
        "        n_units    = layer.get(\"n_units\")\n",
        "        activation = layer.get(\"activation\")\n",
        "        if k == \"layer_1\":\n",
        "            model.add(Dense(n_units, activation=activation, input_shape=input_shape))\n",
        "        elif k == final_layer:\n",
        "            model.add(Dense(n_units))\n",
        "        else:\n",
        "            model.add(Dense(n_units, activation=activation))\n",
        "\n",
        "    # compile model\n",
        "    model.compile(optimizer=optimizer, loss=loss)\n",
        "\n",
        "    return model\n"
      ]
    },
    {
      "cell_type": "markdown",
      "metadata": {
        "id": "gNbasy2MRjp8"
      },
      "source": [
        "### Model architecture"
      ]
    },
    {
      "cell_type": "markdown",
      "metadata": {
        "id": "loJLNm5URjp8"
      },
      "source": [
        "Lets define the architecture of the model that we're going to use. In this part we are going to build a model with\n",
        "* one hidden layer of 10 nodes,\n",
        "* and a ReLU activation function"
      ]
    },
    {
      "cell_type": "code",
      "execution_count": null,
      "metadata": {
        "ExecuteTime": {
          "end_time": "2020-04-24T15:50:34.202530Z",
          "start_time": "2020-04-24T15:50:34.195846Z"
        },
        "id": "5-fJl7UiRjp8",
        "outputId": "898644ad-c258-41fa-b5c2-7e9d203315aa"
      },
      "outputs": [
        {
          "name": "stdout",
          "output_type": "stream",
          "text": [
            "\n",
            "input_shape    = (8,)\n",
            "network_config = {'layer_1': {'n_units': 10, 'activation': 'relu'}, 'layer_2': {'n_units': 1}}\n",
            "\n"
          ]
        }
      ],
      "source": [
        "# model architecture\n",
        "model_architecture1 = {\"layer_1\": {\"n_units\": 10, \"activation\": \"relu\"},\n",
        "                       \"layer_2\": {\"n_units\":  1},\n",
        "                      }\n",
        "\n",
        "print()\n",
        "print(\"input_shape    = {}\".format(input_shape))\n",
        "print(\"network_config = {}\".format(model_architecture1))\n",
        "print()"
      ]
    },
    {
      "cell_type": "markdown",
      "metadata": {
        "id": "OiOZKpFhRjp9"
      },
      "source": [
        "## Part A.3: Train and test a regression model several times"
      ]
    },
    {
      "cell_type": "markdown",
      "metadata": {
        "id": "EbguVSRyRjp9"
      },
      "source": [
        "Will train and test a model 50 times. Will recollect the performances as mean squared error between the predicted concrete strength and the actual concrete strength."
      ]
    },
    {
      "cell_type": "code",
      "execution_count": null,
      "metadata": {
        "ExecuteTime": {
          "end_time": "2020-04-24T15:50:50.024502Z",
          "start_time": "2020-04-24T15:50:50.022158Z"
        },
        "id": "AaFLFjHLRjp9"
      },
      "outputs": [],
      "source": [
        "# import the metric to evaluate the model performance\n",
        "from sklearn.metrics import mean_squared_error"
      ]
    },
    {
      "cell_type": "code",
      "execution_count": null,
      "metadata": {
        "ExecuteTime": {
          "end_time": "2020-04-24T15:50:50.711825Z",
          "start_time": "2020-04-24T15:50:50.704025Z"
        },
        "id": "evr45TEIRjp9"
      },
      "outputs": [],
      "source": [
        "# Define a function for the loops\n",
        "def train_and_test_several_models(X,y,\n",
        "                                  test_size,\n",
        "                                  model_arch,\n",
        "                                  input_shape,\n",
        "                                  optimizer,\n",
        "                                  loss,\n",
        "                                  niterations,\n",
        "                                  epochs,\n",
        "                                  pred_norm = False,\n",
        "                                  seed = 345,\n",
        "                                  verbose = 2,\n",
        "                                 ):\n",
        "    \"\"\"\n",
        "    Function for training and testing several model on random train/test splits\n",
        "\n",
        "    parameters:\n",
        "    -----------\n",
        "      - X,y:         the data. X are the predictors and y the target\n",
        "      - seed:        int, with a seed to be used in the train/test splitting\n",
        "      - test_size:   float (0,0.5). Size of the test-sample as a fraction of the whole data-set\n",
        "      - model_arch:  dict. Architecture of the model (see regression_model above)\n",
        "      - input_shape: 2-tuple with the input shape\n",
        "      - optimizer:   string. optimizer name\n",
        "      - loss:        string. loss function name\n",
        "      - niterations: int. number of iterations to perform the train/test split, model training and testing\n",
        "      - epoch:       int. number of epochs for model training\n",
        "      - pred_norm:   bool. If True will apply normalization on the predictors\n",
        "      - verbose:     int >= 0. level of verbosity.\n",
        "\n",
        "    returns:\n",
        "    --------\n",
        "      - mse_results: np.array with the sqrt(mse) metric evaluated on the test-samples\n",
        "    \"\"\"\n",
        "\n",
        "    # Array to store the results of the model evaluation on the test set\n",
        "    metric_list = np.zeros(niterations)\n",
        "\n",
        "    print()\n",
        "    print(\"Launching {} iterations of\".format(niterations))\n",
        "    print(\" - train/test split => test_size = {}\".format(test_size))\n",
        "    if pred_norm:\n",
        "        print(\" - Apply predictors normalization\")\n",
        "    else:\n",
        "        print(\" - No    predictors normalization\")\n",
        "    print(\" - model architecture: {}\".format(model_arch))\n",
        "    print(\" - model training:\")\n",
        "    print(\"   * epochs    = {}\".format(epochs))\n",
        "    print(\"   * optimizer = {}\".format(optimizer))\n",
        "    print(\"   * loss      = {}\".format(loss))\n",
        "    print()\n",
        "\n",
        "    # Start the loop\n",
        "    for i in range(niterations):\n",
        "        # Apply the train test split\n",
        "        myseed = seed + i*2 # seed used for the train_test_split\n",
        "        X_train, X_test, y_train, y_test = train_test_split(X, y, test_size=test_size, random_state=myseed)\n",
        "\n",
        "        # Start by building the model\n",
        "        model = regression_model(network_arch = model_arch,\n",
        "                                 input_shape  = input_shape,\n",
        "                                 optimizer    = optimizer,\n",
        "                                 loss         = loss)\n",
        "\n",
        "        if pred_norm:\n",
        "            # If requested apply predictors normalization\n",
        "            # first calculate the mean and std on the train-sample\n",
        "            X_train_mean = X_train.mean()\n",
        "            X_train_std  = X_train.std()\n",
        "\n",
        "            # then apply them on both, the train and test samples\n",
        "            X_train = (X_train - X_train_mean)/X_train_std\n",
        "            X_test  = (X_test  - X_train_mean)/X_train_std\n",
        "\n",
        "        myverbose = 0\n",
        "        if i == 0:\n",
        "            myverbose = verbose\n",
        "            print(\"Train/test splitting for iteration {}\".format(i+1))\n",
        "            print(\"  X_train.shape = {}\".format(X_train.shape))\n",
        "            print(\"  y_train.shape = {}\".format(y_train.shape))\n",
        "            print(\"  X_test.shape  = {}\".format(X_test.shape))\n",
        "            print(\"  y_test.shape  = {}\".format(y_test.shape))\n",
        "            print(X_train.head())\n",
        "            print()\n",
        "            print(\"Model summary for iteration {}\".format(i+1))\n",
        "            model.summary()\n",
        "            print()\n",
        "            print()\n",
        "\n",
        "        # Model training\n",
        "        model.fit(X_train, y_train, epochs=epochs, verbose=verbose)\n",
        "\n",
        "        # model predictions on test sample\n",
        "        y_pred = model.predict(X_test)\n",
        "\n",
        "        # Model evaluation on test sample\n",
        "        result = np.sqrt(mean_squared_error(y_test,y_pred))\n",
        "        print(\"{}: sqrt(mse) = {}\".format(i+1,result))\n",
        "        metric_list[i] = result\n",
        "\n",
        "\n",
        "    print()\n",
        "\n",
        "    return metric_list\n"
      ]
    },
    {
      "cell_type": "markdown",
      "metadata": {
        "id": "b4sCwU6HRjp-"
      },
      "source": [
        "Define some variables to be used in all parts of this asignment"
      ]
    },
    {
      "cell_type": "code",
      "execution_count": null,
      "metadata": {
        "ExecuteTime": {
          "end_time": "2020-04-24T15:50:58.516709Z",
          "start_time": "2020-04-24T15:50:58.514638Z"
        },
        "id": "C9uzFdiZRjp-"
      },
      "outputs": [],
      "source": [
        "niterations = 50  # Number of iterations\n",
        "test_size   = 0.3 # test sample size"
      ]
    },
    {
      "cell_type": "markdown",
      "metadata": {
        "button": false,
        "new_sheet": false,
        "run_control": {
          "read_only": false
        },
        "id": "Wyj1YZcxRjp-"
      },
      "source": [
        "We now launch the loop"
      ]
    },
    {
      "cell_type": "code",
      "execution_count": null,
      "metadata": {
        "ExecuteTime": {
          "end_time": "2020-04-24T15:53:06.698124Z",
          "start_time": "2020-04-24T15:51:02.732556Z"
        },
        "scrolled": false,
        "id": "zj8WyNy-Rjp-",
        "outputId": "ed8b700a-28a2-4f8d-8067-a67b73f04f14"
      },
      "outputs": [
        {
          "name": "stdout",
          "output_type": "stream",
          "text": [
            "\n",
            "Launching 50 iterations of\n",
            " - train/test split => test_size = 0.3\n",
            " - No    predictors normalization\n",
            " - model architecture: {'layer_1': {'n_units': 10, 'activation': 'relu'}, 'layer_2': {'n_units': 1}}\n",
            " - model training:\n",
            "   * epochs    = 50\n",
            "   * optimizer = adam\n",
            "   * loss      = mean_squared_error\n",
            "\n",
            "WARNING:tensorflow:From /usr/local/lib/python3.6/dist-packages/tensorflow/python/ops/resource_variable_ops.py:435: colocate_with (from tensorflow.python.framework.ops) is deprecated and will be removed in a future version.\n",
            "Instructions for updating:\n",
            "Colocations handled automatically by placer.\n",
            "WARNING:tensorflow:From /usr/local/lib/python3.6/dist-packages/tensorflow/python/keras/utils/losses_utils.py:170: to_float (from tensorflow.python.ops.math_ops) is deprecated and will be removed in a future version.\n",
            "Instructions for updating:\n",
            "Use tf.cast instead.\n",
            "Train/test splitting for iteration 1\n",
            "  X_train.shape = (721, 8)\n",
            "  y_train.shape = (721,)\n",
            "  X_test.shape  = (309, 8)\n",
            "  y_test.shape  = (309,)\n",
            "     Cement  Blast Furnace Slag  Fly Ash  Water  Superplasticizer  \\\n",
            "870   149.0               139.0    109.0  193.0               6.0   \n",
            "875   155.0               183.0      0.0  193.0               9.0   \n",
            "488   387.0                20.0     94.0  157.0              14.3   \n",
            "10    198.6               132.4      0.0  192.0               0.0   \n",
            "391   397.0                17.2    158.0  167.0              20.8   \n",
            "\n",
            "     Coarse Aggregate  Fine Aggregate  Age  \n",
            "870             892.0           780.0   28  \n",
            "875            1047.0           697.0   28  \n",
            "488             938.0           845.0    3  \n",
            "10              978.4           825.5   90  \n",
            "391             967.0           633.0   28  \n",
            "\n",
            "Model summary for iteration 1\n",
            "_________________________________________________________________\n",
            "Layer (type)                 Output Shape              Param #   \n",
            "=================================================================\n",
            "dense (Dense)                (None, 10)                90        \n",
            "_________________________________________________________________\n",
            "dense_1 (Dense)              (None, 1)                 11        \n",
            "=================================================================\n",
            "Total params: 101\n",
            "Trainable params: 101\n",
            "Non-trainable params: 0\n",
            "_________________________________________________________________\n",
            "\n",
            "\n",
            "WARNING:tensorflow:From /usr/local/lib/python3.6/dist-packages/tensorflow/python/ops/math_ops.py:3066: to_int32 (from tensorflow.python.ops.math_ops) is deprecated and will be removed in a future version.\n",
            "Instructions for updating:\n",
            "Use tf.cast instead.\n",
            "1: sqrt(mse) = 13.424155466239448\n",
            "2: sqrt(mse) = 9.285045002703669\n",
            "3: sqrt(mse) = 32.26116521127444\n",
            "4: sqrt(mse) = 16.84379023622134\n",
            "5: sqrt(mse) = 10.736833049185746\n",
            "6: sqrt(mse) = 15.676315177377852\n",
            "7: sqrt(mse) = 14.859717882725631\n",
            "8: sqrt(mse) = 10.307058020342657\n",
            "9: sqrt(mse) = 34.4965730773108\n",
            "10: sqrt(mse) = 11.690203345599144\n",
            "11: sqrt(mse) = 14.833867988177825\n",
            "12: sqrt(mse) = 11.04556623108105\n",
            "13: sqrt(mse) = 13.558385500604691\n",
            "14: sqrt(mse) = 10.363000360685103\n",
            "15: sqrt(mse) = 10.584899794255938\n",
            "16: sqrt(mse) = 12.266436559143306\n",
            "17: sqrt(mse) = 11.462836971255102\n",
            "18: sqrt(mse) = 11.87883541500065\n",
            "19: sqrt(mse) = 11.445176826838097\n",
            "20: sqrt(mse) = 10.780095495992267\n",
            "21: sqrt(mse) = 12.095371346707111\n",
            "22: sqrt(mse) = 19.24228768173589\n",
            "23: sqrt(mse) = 15.487702379555234\n",
            "24: sqrt(mse) = 15.819155709692426\n",
            "25: sqrt(mse) = 14.37720405228413\n",
            "26: sqrt(mse) = 26.427028246388037\n",
            "27: sqrt(mse) = 12.215897707178094\n",
            "28: sqrt(mse) = 13.20268410955028\n",
            "29: sqrt(mse) = 10.875602117431372\n",
            "30: sqrt(mse) = 11.670850282535984\n",
            "31: sqrt(mse) = 15.576899610786201\n",
            "32: sqrt(mse) = 16.699323779881073\n",
            "33: sqrt(mse) = 20.70459604427584\n",
            "34: sqrt(mse) = 8.80196407364556\n",
            "35: sqrt(mse) = 24.178499667447984\n",
            "36: sqrt(mse) = 10.39800266305431\n",
            "37: sqrt(mse) = 12.936358923508282\n",
            "38: sqrt(mse) = 10.753695498845182\n",
            "39: sqrt(mse) = 10.896925799422444\n",
            "40: sqrt(mse) = 14.726342068436837\n",
            "41: sqrt(mse) = 11.113627543503181\n",
            "42: sqrt(mse) = 15.482762145314291\n",
            "43: sqrt(mse) = 19.821453034772297\n",
            "44: sqrt(mse) = 20.20709636564081\n",
            "45: sqrt(mse) = 11.4135511230403\n",
            "46: sqrt(mse) = 43.08769745857871\n",
            "47: sqrt(mse) = 11.67973773469688\n",
            "48: sqrt(mse) = 10.05551288123144\n",
            "49: sqrt(mse) = 25.43749056579002\n",
            "50: sqrt(mse) = 16.714635208182596\n",
            "\n"
          ]
        }
      ],
      "source": [
        "sq_mse_list_A = train_and_test_several_models(X = X,\n",
        "                                              y = y,\n",
        "                                              test_size   = test_size,\n",
        "                                              model_arch  = model_architecture1,\n",
        "                                              input_shape = input_shape,\n",
        "                                              optimizer   = \"adam\",\n",
        "                                              loss        = \"mean_squared_error\",\n",
        "                                              niterations = niterations,\n",
        "                                              epochs      = 50,\n",
        "                                              seed        = 345,\n",
        "                                              verbose     = 0,\n",
        "                                              pred_norm   = False,\n",
        "                                             )"
      ]
    },
    {
      "cell_type": "markdown",
      "metadata": {
        "id": "4n5Cn61iRjp_"
      },
      "source": [
        "## Part A results"
      ]
    },
    {
      "cell_type": "code",
      "execution_count": null,
      "metadata": {
        "ExecuteTime": {
          "end_time": "2020-04-24T15:53:17.857655Z",
          "start_time": "2020-04-24T15:53:17.849392Z"
        },
        "id": "Ep8VltcSRjp_",
        "outputId": "b9b304a4-e93c-4009-dc98-c99c6139532d"
      },
      "outputs": [
        {
          "data": {
            "text/html": [
              "<div>\n",
              "<style scoped>\n",
              "    .dataframe tbody tr th:only-of-type {\n",
              "        vertical-align: middle;\n",
              "    }\n",
              "\n",
              "    .dataframe tbody tr th {\n",
              "        vertical-align: top;\n",
              "    }\n",
              "\n",
              "    .dataframe thead th {\n",
              "        text-align: right;\n",
              "    }\n",
              "</style>\n",
              "<table border=\"1\" class=\"dataframe\">\n",
              "  <thead>\n",
              "    <tr style=\"text-align: right;\">\n",
              "      <th></th>\n",
              "      <th>Part</th>\n",
              "      <th>mean_sq_mse</th>\n",
              "      <th>std_sq_mse</th>\n",
              "    </tr>\n",
              "  </thead>\n",
              "  <tbody>\n",
              "    <tr>\n",
              "      <th>0</th>\n",
              "      <td>A</td>\n",
              "      <td>15.397998</td>\n",
              "      <td>6.797415</td>\n",
              "    </tr>\n",
              "  </tbody>\n",
              "</table>\n",
              "</div>"
            ],
            "text/plain": [
              "  Part  mean_sq_mse  std_sq_mse\n",
              "0    A    15.397998    6.797415"
            ]
          },
          "execution_count": 18,
          "metadata": {},
          "output_type": "execute_result"
        }
      ],
      "source": [
        "# Calculate the mean and the standard deviation of the metric on the 50 samplings\n",
        "mean_sqmse_A = np.mean(sq_mse_list_A)\n",
        "std_sqmse_A  = np.std(sq_mse_list_A)\n",
        "\n",
        "# Generate a data frame to store the results of the differents parts of this project\n",
        "df_results = pd.DataFrame.from_dict({\"Part\": [\"A\"],\"mean_sq_mse\": [mean_sqmse_A], \"std_sq_mse\": [std_sqmse_A]})\n",
        "df_results"
      ]
    },
    {
      "cell_type": "markdown",
      "metadata": {
        "id": "yz8UqAEgRjp_"
      },
      "source": [
        "Define a function for plotting the resutls"
      ]
    },
    {
      "cell_type": "code",
      "execution_count": null,
      "metadata": {
        "ExecuteTime": {
          "end_time": "2020-04-24T15:53:33.423591Z",
          "start_time": "2020-04-24T15:53:33.417307Z"
        },
        "id": "iaG5J6vlRjp_"
      },
      "outputs": [],
      "source": [
        "# Define some common parameters for plotting\n",
        "figsize = (10,8)\n",
        "nbins   = 20"
      ]
    },
    {
      "cell_type": "markdown",
      "metadata": {
        "id": "SL44LK_hRjqA"
      },
      "source": [
        "Define a function for visualizing and comparing the results of the different parts for this project"
      ]
    },
    {
      "cell_type": "code",
      "execution_count": null,
      "metadata": {
        "ExecuteTime": {
          "end_time": "2020-04-24T15:53:23.425311Z",
          "start_time": "2020-04-24T15:53:23.319958Z"
        },
        "id": "lh8SYxm2RjqA"
      },
      "outputs": [],
      "source": [
        "import matplotlib.pyplot as plt\n",
        "%matplotlib inline\n",
        "\n",
        "def plot_results(result_list,\n",
        "                 label_list,\n",
        "                 var_name = \"sq(mse)\",\n",
        "                 figsize = (15,10),\n",
        "                 nbins = 10):\n",
        "    \"\"\"\n",
        "    plotting function\n",
        "\n",
        "    parameters:\n",
        "    -----------\n",
        "      - result_list: list of np.arrays with the metrics of the niterations\n",
        "      - label_list:  list of labels\n",
        "    \"\"\"\n",
        "\n",
        "    if len(result_list) != len(label_list):\n",
        "        raise ValueError(\"lenghts of result_list and label_list has to be the same\")\n",
        "\n",
        "    if len(result_list) == 0:\n",
        "        raise ValueError(\"lenght of result_list has to be > 0\")\n",
        "\n",
        "    color_list = [\"b\",\"r\",\"m\",\"y\"]\n",
        "\n",
        "    xmin = +1.0e+20\n",
        "    xmax = -1.0e+20\n",
        "    for arr in result_list:\n",
        "        min_tmp = np.amin(arr)\n",
        "        max_tmp = np.amax(arr)\n",
        "\n",
        "        if xmin > min_tmp:\n",
        "            xmin = min_tmp\n",
        "        if xmax < max_tmp:\n",
        "            xmax = max_tmp\n",
        "\n",
        "    percent   = 0.01\n",
        "    delta     = xmax - xmin\n",
        "    xmin     -= percent*delta\n",
        "    xmax     += percent*delta\n",
        "\n",
        "    bins = np.linspace(xmin, xmax, nbins+1)\n",
        "\n",
        "\n",
        "    fig, ax = plt.subplots(nrows=1, ncols=1, figsize=figsize)\n",
        "\n",
        "    porcent = 0.05\n",
        "    ymax = -1.0e+20\n",
        "    for i,arr in enumerate(result_list):\n",
        "        n,_,_ = ax.hist(x       = arr,\n",
        "                        bins    = bins,\n",
        "                        color   = color_list[i],\n",
        "                        alpha   = 0.5,\n",
        "                        density = False,\n",
        "                        label   = label_list[i]\n",
        "                       )\n",
        "\n",
        "        if ymax < np.amax(n):\n",
        "            ymax = np.amax(n)\n",
        "\n",
        "\n",
        "    # Add some text for labels, title and custom x-axis tick labels, etc.\n",
        "    ax.legend()\n",
        "    ax.set_xlim([bins[0],bins[-1]])\n",
        "    ax.set_ylim([0,ymax*(1.0 + porcent)])\n",
        "    ax.set_xlabel(var_name)\n",
        "    ax.set_ylabel('Occurences')\n",
        "    ax.set_title(var_name + ' distribution')\n",
        "\n",
        "    fig.tight_layout()\n",
        "\n",
        "    plt.show()\n",
        ""
      ]
    },
    {
      "cell_type": "code",
      "execution_count": null,
      "metadata": {
        "ExecuteTime": {
          "end_time": "2020-04-24T15:53:47.451918Z",
          "start_time": "2020-04-24T15:53:47.255431Z"
        },
        "id": "0YLHDGqzRjqA",
        "outputId": "d0ebeaad-fa8c-4cfb-d222-068e70d6d154"
      },
      "outputs": [
        {
          "data": {
            "image/png": "[encoded data removed]",
            "text/plain": [
              "<Figure size 720x576 with 1 Axes>"
            ]
          },
          "metadata": {
            "needs_background": "light"
          },
          "output_type": "display_data"
        }
      ],
      "source": [
        "plot_results(result_list = [sq_mse_list_A],\n",
        "             label_list  = [\"Part A\"],\n",
        "             var_name = \"sq(mse)\",\n",
        "             figsize = figsize,\n",
        "             nbins = nbins)"
      ]
    },
    {
      "cell_type": "markdown",
      "metadata": {
        "id": "YYH9o9SSRjqA"
      },
      "source": [
        "# Part B: Normalize the data (5 marks)"
      ]
    },
    {
      "cell_type": "markdown",
      "metadata": {
        "id": "YBy_eV5xRjqB"
      },
      "source": [
        "Repeat Part A but use a normalized version of the data. Recall that one way to normalize the data is by subtracting the mean from the individual predictors and dividing by the standard deviation.\n",
        "\n",
        "How does the mean of the mean squared errors compare to that from Step A?"
      ]
    },
    {
      "cell_type": "code",
      "execution_count": null,
      "metadata": {
        "ExecuteTime": {
          "end_time": "2020-04-24T15:59:55.281470Z",
          "start_time": "2020-04-24T15:54:09.109051Z"
        },
        "id": "rgNuSZexRjqB",
        "outputId": "094df34c-87ea-4542-ab99-29be14004373"
      },
      "outputs": [
        {
          "name": "stdout",
          "output_type": "stream",
          "text": [
            "\n",
            "Launching 50 iterations of\n",
            " - train/test split => test_size = 0.3\n",
            " - Apply predictors normalization\n",
            " - model architecture: {'layer_1': {'n_units': 10, 'activation': 'relu'}, 'layer_2': {'n_units': 1}}\n",
            " - model training:\n",
            "   * epochs    = 50\n",
            "   * optimizer = adam\n",
            "   * loss      = mean_squared_error\n",
            "\n",
            "Train/test splitting for iteration 1\n",
            "  X_train.shape = (721, 8)\n",
            "  y_train.shape = (721,)\n",
            "  X_test.shape  = (309, 8)\n",
            "  y_test.shape  = (309,)\n",
            "       Cement  Blast Furnace Slag   Fly Ash     Water  Superplasticizer  \\\n",
            "723  0.260617           -0.863998 -0.825639  0.448707         -1.007613   \n",
            "112  1.477748            1.174001 -0.825639  0.163870          0.870100   \n",
            "278 -0.292281           -0.863998  1.058232  0.282552         -0.026465   \n",
            "641 -0.305490           -0.863998 -0.825639 -0.026021         -1.007613   \n",
            "270 -0.477209           -0.863998  1.110782 -0.405804          0.125781   \n",
            "\n",
            "     Coarse Aggregate  Fine Aggregate       Age  \n",
            "723          0.481434        0.718580 -0.271735  \n",
            "112         -1.145439       -0.775490 -0.608947  \n",
            "278          0.691353       -0.166115  0.884424  \n",
            "641          1.607829        0.596215 -0.608947  \n",
            "270          1.049752        0.088403 -0.496543  \n",
            "\n",
            "Model summary for iteration 1\n",
            "_________________________________________________________________\n",
            "Layer (type)                 Output Shape              Param #   \n",
            "=================================================================\n",
            "dense_100 (Dense)            (None, 10)                90        \n",
            "_________________________________________________________________\n",
            "dense_101 (Dense)            (None, 1)                 11        \n",
            "=================================================================\n",
            "Total params: 101\n",
            "Trainable params: 101\n",
            "Non-trainable params: 0\n",
            "_________________________________________________________________\n",
            "\n",
            "\n",
            "1: sqrt(mse) = 18.25750003446359\n",
            "2: sqrt(mse) = 16.959643340844085\n",
            "3: sqrt(mse) = 20.714579093982927\n",
            "4: sqrt(mse) = 19.170692295862526\n",
            "5: sqrt(mse) = 19.162134158211884\n",
            "6: sqrt(mse) = 17.237979793619225\n",
            "7: sqrt(mse) = 17.023945509365397\n",
            "8: sqrt(mse) = 16.4203450964345\n",
            "9: sqrt(mse) = 17.836435280346425\n",
            "10: sqrt(mse) = 16.1788409432244\n",
            "11: sqrt(mse) = 18.190504800461422\n",
            "12: sqrt(mse) = 21.380684847890628\n",
            "13: sqrt(mse) = 18.393401365266953\n",
            "14: sqrt(mse) = 18.41756630013955\n",
            "15: sqrt(mse) = 16.203395335131958\n",
            "16: sqrt(mse) = 19.284517006564112\n",
            "17: sqrt(mse) = 18.678073817567522\n",
            "18: sqrt(mse) = 15.98921791331869\n",
            "19: sqrt(mse) = 25.92455712911274\n",
            "20: sqrt(mse) = 16.69002026107255\n",
            "21: sqrt(mse) = 16.055268579751814\n",
            "22: sqrt(mse) = 17.287405038810974\n",
            "23: sqrt(mse) = 24.197880827174764\n",
            "24: sqrt(mse) = 18.823743228776564\n",
            "25: sqrt(mse) = 17.86848500332237\n",
            "26: sqrt(mse) = 21.712754458037463\n",
            "27: sqrt(mse) = 15.673106896050452\n",
            "28: sqrt(mse) = 17.584769237961247\n",
            "29: sqrt(mse) = 16.728131525330046\n",
            "30: sqrt(mse) = 16.08030809382711\n",
            "31: sqrt(mse) = 18.10803641055717\n",
            "32: sqrt(mse) = 16.25663296696262\n",
            "33: sqrt(mse) = 18.48103944649804\n",
            "34: sqrt(mse) = 19.84244010416491\n",
            "35: sqrt(mse) = 16.407520294136745\n",
            "36: sqrt(mse) = 16.28256332230114\n",
            "37: sqrt(mse) = 21.9877362720716\n",
            "38: sqrt(mse) = 17.104570087106787\n",
            "39: sqrt(mse) = 20.798398109160832\n",
            "40: sqrt(mse) = 17.705023126591314\n",
            "41: sqrt(mse) = 18.98107370134987\n",
            "42: sqrt(mse) = 20.195974744586415\n",
            "43: sqrt(mse) = 19.97003038240042\n",
            "44: sqrt(mse) = 17.47003119917038\n",
            "45: sqrt(mse) = 19.060833463688496\n",
            "46: sqrt(mse) = 19.478638310546796\n",
            "47: sqrt(mse) = 16.56234428258799\n",
            "48: sqrt(mse) = 15.552940727389423\n",
            "49: sqrt(mse) = 16.677361882119442\n",
            "50: sqrt(mse) = 17.110270458673636\n",
            "\n"
          ]
        }
      ],
      "source": [
        "# Just launch the function above (train_and_test_several_models), but with pred_norm = True\n",
        "sq_mse_list_B = train_and_test_several_models(X = X,\n",
        "                                              y = y,\n",
        "                                              test_size   = test_size,\n",
        "                                              model_arch  = model_architecture1,\n",
        "                                              input_shape = input_shape,\n",
        "                                              optimizer   = \"adam\",\n",
        "                                              loss        = \"mean_squared_error\",\n",
        "                                              niterations = niterations,\n",
        "                                              epochs      = 50,\n",
        "                                              seed        = 3675,\n",
        "                                              verbose     = 0,\n",
        "                                              pred_norm   = True,\n",
        "                                             )"
      ]
    },
    {
      "cell_type": "code",
      "execution_count": null,
      "metadata": {
        "ExecuteTime": {
          "end_time": "2020-04-24T16:00:01.979854Z",
          "start_time": "2020-04-24T16:00:01.949435Z"
        },
        "id": "ceipefMIRjqB",
        "outputId": "4c8a8c31-1213-4ee0-9bfa-3a8a040e373a"
      },
      "outputs": [
        {
          "data": {
            "text/html": [
              "<div>\n",
              "<style scoped>\n",
              "    .dataframe tbody tr th:only-of-type {\n",
              "        vertical-align: middle;\n",
              "    }\n",
              "\n",
              "    .dataframe tbody tr th {\n",
              "        vertical-align: top;\n",
              "    }\n",
              "\n",
              "    .dataframe thead th {\n",
              "        text-align: right;\n",
              "    }\n",
              "</style>\n",
              "<table border=\"1\" class=\"dataframe\">\n",
              "  <thead>\n",
              "    <tr style=\"text-align: right;\">\n",
              "      <th></th>\n",
              "      <th>Part</th>\n",
              "      <th>mean_sq_mse</th>\n",
              "      <th>std_sq_mse</th>\n",
              "    </tr>\n",
              "  </thead>\n",
              "  <tbody>\n",
              "    <tr>\n",
              "      <th>0</th>\n",
              "      <td>A</td>\n",
              "      <td>15.397998</td>\n",
              "      <td>6.797415</td>\n",
              "    </tr>\n",
              "    <tr>\n",
              "      <th>1</th>\n",
              "      <td>B</td>\n",
              "      <td>18.283187</td>\n",
              "      <td>2.140109</td>\n",
              "    </tr>\n",
              "  </tbody>\n",
              "</table>\n",
              "</div>"
            ],
            "text/plain": [
              "  Part  mean_sq_mse  std_sq_mse\n",
              "0    A    15.397998    6.797415\n",
              "1    B    18.283187    2.140109"
            ]
          },
          "execution_count": 26,
          "metadata": {},
          "output_type": "execute_result"
        }
      ],
      "source": [
        "# Calculate the mean and the standard deviation of the metric on the 50 samplings\n",
        "mean_sqmse_B = np.mean(sq_mse_list_B)\n",
        "std_sqmse_B  = np.std(sq_mse_list_B)\n",
        "\n",
        "df_results.loc[df_results.shape[0]] = [\"B\",mean_sqmse_B,std_sqmse_B]\n",
        "df_results"
      ]
    },
    {
      "cell_type": "code",
      "execution_count": null,
      "metadata": {
        "ExecuteTime": {
          "end_time": "2020-04-24T16:39:35.710450Z",
          "start_time": "2020-04-24T16:39:35.496967Z"
        },
        "id": "4BowWRYeRjqB",
        "outputId": "d08e857e-44ca-4834-edcf-63bcf1c808a2"
      },
      "outputs": [
        {
          "data": {
            "image/png": "[encoded data removed]",
            "text/plain": [
              "<Figure size 720x576 with 1 Axes>"
            ]
          },
          "metadata": {
            "needs_background": "light"
          },
          "output_type": "display_data"
        }
      ],
      "source": [
        "plot_results(result_list = [sq_mse_list_A,sq_mse_list_B],\n",
        "             label_list  = [\"Part A\",\"Part B\"],\n",
        "             var_name = \"sq(mse)\",\n",
        "             figsize = figsize,\n",
        "             nbins = nbins)"
      ]
    },
    {
      "cell_type": "markdown",
      "metadata": {
        "id": "-aPxzrLKRjqC"
      },
      "source": [
        "## How does the mean of the mean squared errors compare to that from Step A?"
      ]
    },
    {
      "cell_type": "markdown",
      "metadata": {
        "id": "1g2vHANJRjqC"
      },
      "source": [
        "It seems that by rormalizing the predictors we increase the mean value of the mse we obtain, but significantly decrease it standard deviation"
      ]
    }
  ],
  "metadata": {
    "kernelspec": {
      "display_name": "Python 3",
      "language": "python",
      "name": "python3"
    },
    "language_info": {
      "codemirror_mode": {
        "name": "ipython",
        "version": 3
      },
      "file_extension": ".py",
      "mimetype": "text/x-python",
      "name": "python",
      "nbconvert_exporter": "python",
      "pygments_lexer": "ipython3",
      "version": "3.6.9"
    },
    "toc": {
      "base_numbering": 1,
      "nav_menu": {},
      "number_sections": true,
      "sideBar": true,
      "skip_h1_title": false,
      "title_cell": "Table of Contents",
      "title_sidebar": "Contents",
      "toc_cell": false,
      "toc_position": {},
      "toc_section_display": true,
      "toc_window_display": false
    },
    "colab": {
      "provenance": []
    }
  },
  "nbformat": 4,
  "nbformat_minor": 0
}