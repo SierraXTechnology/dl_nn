{
 "cells": [
  {
   "cell_type": "code",
   "execution_count": 35,
   "metadata": {},
   "outputs": [],
   "source": [
    "import keras\n",
    "from keras.models import Sequential\n",
    "from keras.layers import Dense, Conv2D, Flatten, MaxPooling2D\n",
    "from keras.utils import to_categorical\n",
    "import numpy as np"
   ]
  },
  {
   "cell_type": "code",
   "execution_count": 51,
   "metadata": {},
   "outputs": [
    {
     "data": {
      "text/plain": [
       "(60000, 28, 28)"
      ]
     },
     "execution_count": 51,
     "metadata": {},
     "output_type": "execute_result"
    }
   ],
   "source": [
    "# CNN with one Convolutional Layer and one Pooling Layer\n",
    "\n",
    "from keras.datasets import mnist\n",
    "(X_train, y_train), (X_test, y_test) = mnist.load_data()\n",
    "X_train.shape\n"
   ]
  },
  {
   "cell_type": "code",
   "execution_count": 52,
   "metadata": {},
   "outputs": [],
   "source": [
    "# reshape to be [samples][width][height][channels] # channels = 1 for grayscale\n",
    "X_train = X_train.reshape(X_train.shape[0], 28, 28, 1).astype('float32')\n",
    "X_test = X_test.reshape(X_test.shape[0], 28, 28, 1).astype('float32')"
   ]
  },
  {
   "cell_type": "code",
   "execution_count": 53,
   "metadata": {},
   "outputs": [],
   "source": [
    "# normalize inputs from 0-255 to 0-1\n",
    "X_train = X_train / 255\n",
    "X_test = X_test / 255"
   ]
  },
  {
   "cell_type": "code",
   "execution_count": null,
   "metadata": {},
   "outputs": [],
   "source": [
    "#convert the target variable into binary categories\n",
    "y_test = to_categorical(y_test)\n",
    "y_train = to_categorical(y_train)\n",
    "\n",
    "num_classes = y_test.shape[1] # number of categories"
   ]
  },
  {
   "cell_type": "code",
   "execution_count": 62,
   "metadata": {},
   "outputs": [],
   "source": [
    "def convolutional_model():\n",
    "    #create model\n",
    "    input_shape = (28,28,1)\n",
    "    model = Sequential()\n",
    "    model.add(Conv2D(16, (5,5), strides=(1,1), activation='relu', input_shape=input_shape))\n",
    "    model.add(MaxPooling2D(pool_size=(2,2),strides=(2,2)))\n",
    "\n",
    "    #second convolutional and pooling layers\n",
    "    model.add(Conv2D(8, (2,2),strides=(2,2)))\n",
    "    model.add(MaxPooling2D(pool_size=(2,2),strides=(2,2)))\n",
    "\n",
    "    model.add(Flatten())\n",
    "    model.add(Dense(100, activation='relu'))\n",
    "    model.add(Dense(num_classes, activation='softmax'))\n",
    "    #compile model\n",
    "    model.compile(optimizer='adam', loss='categorical_crossentropy', metrics=['accuracy'])\n",
    "    return model\n"
   ]
  },
  {
   "cell_type": "code",
   "execution_count": 63,
   "metadata": {},
   "outputs": [
    {
     "name": "stdout",
     "output_type": "stream",
     "text": [
      "Epoch 1/10\n"
     ]
    },
    {
     "name": "stderr",
     "output_type": "stream",
     "text": [
      "/Users/mark/anaconda3/envs/dsfs/lib/python3.11/site-packages/keras/src/layers/convolutional/base_conv.py:107: UserWarning: Do not pass an `input_shape`/`input_dim` argument to a layer. When using Sequential models, prefer using an `Input(shape)` object as the first layer in the model instead.\n",
      "  super().__init__(activity_regularizer=activity_regularizer, **kwargs)\n"
     ]
    },
    {
     "name": "stdout",
     "output_type": "stream",
     "text": [
      "300/300 - 3s - 10ms/step - accuracy: 0.7714 - loss: 0.7441 - val_accuracy: 0.9232 - val_loss: 0.2650\n",
      "Epoch 2/10\n",
      "300/300 - 3s - 9ms/step - accuracy: 0.9319 - loss: 0.2245 - val_accuracy: 0.9507 - val_loss: 0.1654\n",
      "Epoch 3/10\n",
      "300/300 - 3s - 9ms/step - accuracy: 0.9518 - loss: 0.1578 - val_accuracy: 0.9607 - val_loss: 0.1334\n",
      "Epoch 4/10\n",
      "300/300 - 3s - 9ms/step - accuracy: 0.9607 - loss: 0.1285 - val_accuracy: 0.9631 - val_loss: 0.1184\n",
      "Epoch 5/10\n",
      "300/300 - 3s - 9ms/step - accuracy: 0.9666 - loss: 0.1093 - val_accuracy: 0.9681 - val_loss: 0.1020\n",
      "Epoch 6/10\n",
      "300/300 - 3s - 9ms/step - accuracy: 0.9690 - loss: 0.0987 - val_accuracy: 0.9717 - val_loss: 0.0931\n",
      "Epoch 7/10\n",
      "300/300 - 3s - 8ms/step - accuracy: 0.9723 - loss: 0.0910 - val_accuracy: 0.9750 - val_loss: 0.0793\n",
      "Epoch 8/10\n",
      "300/300 - 3s - 8ms/step - accuracy: 0.9746 - loss: 0.0838 - val_accuracy: 0.9770 - val_loss: 0.0731\n",
      "Epoch 9/10\n",
      "300/300 - 3s - 9ms/step - accuracy: 0.9752 - loss: 0.0781 - val_accuracy: 0.9760 - val_loss: 0.0757\n",
      "Epoch 10/10\n",
      "300/300 - 3s - 8ms/step - accuracy: 0.9779 - loss: 0.0724 - val_accuracy: 0.9787 - val_loss: 0.0680\n",
      "Accuracy: 0.9786999821662903 \n",
      " Error: 2.1300017833709717\n"
     ]
    }
   ],
   "source": [
    "#build / fit / evaluate the model\n",
    "model = convolutional_model()\n",
    "model.fit(X_train, y_train, validation_data=(X_test, y_test), epochs=10, batch_size=200, verbose=2)\n",
    "scores = model.evaluate(X_test, y_test, verbose=0)\n",
    "print(\"Accuracy: {} \\n Error: {}\".format(scores[1], 100-scores[1]*100))"
   ]
  },
  {
   "cell_type": "markdown",
   "metadata": {},
   "source": [
    "### Messing around with images"
   ]
  },
  {
   "cell_type": "code",
   "execution_count": 22,
   "metadata": {},
   "outputs": [
    {
     "name": "stdout",
     "output_type": "stream",
     "text": [
      "(60000, 28, 28) (60000,)\n"
     ]
    },
    {
     "data": {
      "image/png": "[encoded data removed]",
      "text/plain": [
       "<Figure size 1500x300 with 5 Axes>"
      ]
     },
     "metadata": {},
     "output_type": "display_data"
    }
   ],
   "source": [
    "import tensorflow as tf\n",
    "import matplotlib.pyplot as plt\n",
    "import random\n",
    "mnist = tf.keras.datasets.mnist\n",
    "(X_train, y_train), (X_test, y_test) = mnist.load_data()\n",
    "print(X_train.shape, y_train.shape)\n",
    "import matplotlib.pyplot as plt\n",
    "\n",
    "# Number of images to display\n",
    "num_images = 5\n",
    "\n",
    "# Create a horizontal row of subplots\n",
    "fig, axes = plt.subplots(1, num_images, figsize=(15, 3))  # 1 row, num_images columns\n",
    "\n",
    "for i in range(num_images):\n",
    "    axes[i].imshow(X_train[i], cmap='gray')  # Display the image\n",
    "    axes[i].set_title(f\"Y = {y_train[i]}\")   # Set the title with the label\n",
    "    axes[i].axis('off')                      # Turn off axes for a cleaner look\n",
    "\n",
    "plt.tight_layout()\n",
    "plt.show()\n"
   ]
  },
  {
   "cell_type": "markdown",
   "metadata": {},
   "source": [
    "## There should be a lab on VGG and ResNet"
   ]
  }
 ],
 "metadata": {
  "kernelspec": {
   "display_name": "dsfs",
   "language": "python",
   "name": "python3"
  },
  "language_info": {
   "codemirror_mode": {
    "name": "ipython",
    "version": 3
   },
   "file_extension": ".py",
   "mimetype": "text/x-python",
   "name": "python",
   "nbconvert_exporter": "python",
   "pygments_lexer": "ipython3",
   "version": "3.11.5"
  }
 },
 "nbformat": 4,
 "nbformat_minor": 2
}
